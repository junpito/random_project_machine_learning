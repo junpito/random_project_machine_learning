{
 "cells": [
  {
   "cell_type": "code",
   "execution_count": 1,
   "id": "7833a248",
   "metadata": {
    "_cell_guid": "b1076dfc-b9ad-4769-8c92-a6c4dae69d19",
    "_uuid": "8f2839f25d086af736a60e9eeb907d3b93b6e0e5",
    "execution": {
     "iopub.execute_input": "2023-08-11T11:40:19.091906Z",
     "iopub.status.busy": "2023-08-11T11:40:19.090976Z",
     "iopub.status.idle": "2023-08-11T11:40:19.115906Z",
     "shell.execute_reply": "2023-08-11T11:40:19.114806Z"
    },
    "papermill": {
     "duration": 0.043004,
     "end_time": "2023-08-11T11:40:19.118850",
     "exception": false,
     "start_time": "2023-08-11T11:40:19.075846",
     "status": "completed"
    },
    "tags": []
   },
   "outputs": [
    {
     "name": "stdout",
     "output_type": "stream",
     "text": [
      "/kaggle/input/paysim1/PS_20174392719_1491204439457_log.csv\n"
     ]
    }
   ],
   "source": [
    "# This Python 3 environment comes with many helpful analytics libraries installed\n",
    "# It is defined by the kaggle/python Docker image: https://github.com/kaggle/docker-python\n",
    "# For example, here's several helpful packages to load\n",
    "\n",
    "import numpy as np # linear algebra\n",
    "import pandas as pd # data processing, CSV file I/O (e.g. pd.read_csv)\n",
    "\n",
    "# Input data files are available in the read-only \"../input/\" directory\n",
    "# For example, running this (by clicking run or pressing Shift+Enter) will list all files under the input directory\n",
    "\n",
    "import os\n",
    "for dirname, _, filenames in os.walk('/kaggle/input'):\n",
    "    for filename in filenames:\n",
    "        print(os.path.join(dirname, filename))\n",
    "\n",
    "# You can write up to 20GB to the current directory (/kaggle/working/) that gets preserved as output when you create a version using \"Save & Run All\" \n",
    "# You can also write temporary files to /kaggle/temp/, but they won't be saved outside of the current session"
   ]
  },
  {
   "cell_type": "code",
   "execution_count": 2,
   "id": "1eba95d1",
   "metadata": {
    "execution": {
     "iopub.execute_input": "2023-08-11T11:40:19.147005Z",
     "iopub.status.busy": "2023-08-11T11:40:19.146205Z",
     "iopub.status.idle": "2023-08-11T11:40:32.514505Z",
     "shell.execute_reply": "2023-08-11T11:40:32.512876Z"
    },
    "papermill": {
     "duration": 13.38651,
     "end_time": "2023-08-11T11:40:32.518333",
     "exception": false,
     "start_time": "2023-08-11T11:40:19.131823",
     "status": "completed"
    },
    "tags": []
   },
   "outputs": [
    {
     "name": "stderr",
     "output_type": "stream",
     "text": [
      "/opt/conda/lib/python3.10/site-packages/scipy/__init__.py:146: UserWarning: A NumPy version >=1.16.5 and <1.23.0 is required for this version of SciPy (detected version 1.23.5\n",
      "  warnings.warn(f\"A NumPy version >={np_minversion} and <{np_maxversion}\"\n",
      "/opt/conda/lib/python3.10/site-packages/tensorflow_io/python/ops/__init__.py:98: UserWarning: unable to load libtensorflow_io_plugins.so: unable to open file: libtensorflow_io_plugins.so, from paths: ['/opt/conda/lib/python3.10/site-packages/tensorflow_io/python/ops/libtensorflow_io_plugins.so']\n",
      "caused by: ['/opt/conda/lib/python3.10/site-packages/tensorflow_io/python/ops/libtensorflow_io_plugins.so: undefined symbol: _ZN3tsl6StatusC1EN10tensorflow5error4CodeESt17basic_string_viewIcSt11char_traitsIcEENS_14SourceLocationE']\n",
      "  warnings.warn(f\"unable to load libtensorflow_io_plugins.so: {e}\")\n",
      "/opt/conda/lib/python3.10/site-packages/tensorflow_io/python/ops/__init__.py:104: UserWarning: file system plugins are not loaded: unable to open file: libtensorflow_io.so, from paths: ['/opt/conda/lib/python3.10/site-packages/tensorflow_io/python/ops/libtensorflow_io.so']\n",
      "caused by: ['/opt/conda/lib/python3.10/site-packages/tensorflow_io/python/ops/libtensorflow_io.so: undefined symbol: _ZTVN10tensorflow13GcsFileSystemE']\n",
      "  warnings.warn(f\"file system plugins are not loaded: {e}\")\n"
     ]
    }
   ],
   "source": [
    "import matplotlib.pyplot as plt\n",
    "import tensorflow as tf\n",
    "\n",
    "from tensorflow.keras import layers\n",
    "from tensorflow import feature_column\n",
    "\n",
    "from os import getcwd\n",
    "from sklearn.model_selection import train_test_split\n",
    "from sklearn.preprocessing import MinMaxScaler"
   ]
  },
  {
   "cell_type": "markdown",
   "id": "a5f2b2bd",
   "metadata": {
    "papermill": {
     "duration": 0.01267,
     "end_time": "2023-08-11T11:40:32.544232",
     "exception": false,
     "start_time": "2023-08-11T11:40:32.531562",
     "status": "completed"
    },
    "tags": []
   },
   "source": [
    "import dataset "
   ]
  },
  {
   "cell_type": "code",
   "execution_count": 3,
   "id": "71623256",
   "metadata": {
    "execution": {
     "iopub.execute_input": "2023-08-11T11:40:32.573491Z",
     "iopub.status.busy": "2023-08-11T11:40:32.572412Z",
     "iopub.status.idle": "2023-08-11T11:41:01.366800Z",
     "shell.execute_reply": "2023-08-11T11:41:01.364918Z"
    },
    "papermill": {
     "duration": 28.813128,
     "end_time": "2023-08-11T11:41:01.370373",
     "exception": false,
     "start_time": "2023-08-11T11:40:32.557245",
     "status": "completed"
    },
    "tags": []
   },
   "outputs": [],
   "source": [
    "df = pd.read_csv('/kaggle/input/paysim1/PS_20174392719_1491204439457_log.csv')"
   ]
  },
  {
   "cell_type": "code",
   "execution_count": 4,
   "id": "c0e14459",
   "metadata": {
    "execution": {
     "iopub.execute_input": "2023-08-11T11:41:01.402785Z",
     "iopub.status.busy": "2023-08-11T11:41:01.402236Z",
     "iopub.status.idle": "2023-08-11T11:41:01.441702Z",
     "shell.execute_reply": "2023-08-11T11:41:01.440125Z"
    },
    "papermill": {
     "duration": 0.05881,
     "end_time": "2023-08-11T11:41:01.445426",
     "exception": false,
     "start_time": "2023-08-11T11:41:01.386616",
     "status": "completed"
    },
    "tags": []
   },
   "outputs": [
    {
     "data": {
      "text/html": [
       "<div>\n",
       "<style scoped>\n",
       "    .dataframe tbody tr th:only-of-type {\n",
       "        vertical-align: middle;\n",
       "    }\n",
       "\n",
       "    .dataframe tbody tr th {\n",
       "        vertical-align: top;\n",
       "    }\n",
       "\n",
       "    .dataframe thead th {\n",
       "        text-align: right;\n",
       "    }\n",
       "</style>\n",
       "<table border=\"1\" class=\"dataframe\">\n",
       "  <thead>\n",
       "    <tr style=\"text-align: right;\">\n",
       "      <th></th>\n",
       "      <th>step</th>\n",
       "      <th>type</th>\n",
       "      <th>amount</th>\n",
       "      <th>nameOrig</th>\n",
       "      <th>oldbalanceOrg</th>\n",
       "      <th>newbalanceOrig</th>\n",
       "      <th>nameDest</th>\n",
       "      <th>oldbalanceDest</th>\n",
       "      <th>newbalanceDest</th>\n",
       "      <th>isFraud</th>\n",
       "      <th>isFlaggedFraud</th>\n",
       "    </tr>\n",
       "  </thead>\n",
       "  <tbody>\n",
       "    <tr>\n",
       "      <th>0</th>\n",
       "      <td>1</td>\n",
       "      <td>PAYMENT</td>\n",
       "      <td>9839.64</td>\n",
       "      <td>C1231006815</td>\n",
       "      <td>170136.0</td>\n",
       "      <td>160296.36</td>\n",
       "      <td>M1979787155</td>\n",
       "      <td>0.0</td>\n",
       "      <td>0.0</td>\n",
       "      <td>0</td>\n",
       "      <td>0</td>\n",
       "    </tr>\n",
       "    <tr>\n",
       "      <th>1</th>\n",
       "      <td>1</td>\n",
       "      <td>PAYMENT</td>\n",
       "      <td>1864.28</td>\n",
       "      <td>C1666544295</td>\n",
       "      <td>21249.0</td>\n",
       "      <td>19384.72</td>\n",
       "      <td>M2044282225</td>\n",
       "      <td>0.0</td>\n",
       "      <td>0.0</td>\n",
       "      <td>0</td>\n",
       "      <td>0</td>\n",
       "    </tr>\n",
       "    <tr>\n",
       "      <th>2</th>\n",
       "      <td>1</td>\n",
       "      <td>TRANSFER</td>\n",
       "      <td>181.00</td>\n",
       "      <td>C1305486145</td>\n",
       "      <td>181.0</td>\n",
       "      <td>0.00</td>\n",
       "      <td>C553264065</td>\n",
       "      <td>0.0</td>\n",
       "      <td>0.0</td>\n",
       "      <td>1</td>\n",
       "      <td>0</td>\n",
       "    </tr>\n",
       "    <tr>\n",
       "      <th>3</th>\n",
       "      <td>1</td>\n",
       "      <td>CASH_OUT</td>\n",
       "      <td>181.00</td>\n",
       "      <td>C840083671</td>\n",
       "      <td>181.0</td>\n",
       "      <td>0.00</td>\n",
       "      <td>C38997010</td>\n",
       "      <td>21182.0</td>\n",
       "      <td>0.0</td>\n",
       "      <td>1</td>\n",
       "      <td>0</td>\n",
       "    </tr>\n",
       "    <tr>\n",
       "      <th>4</th>\n",
       "      <td>1</td>\n",
       "      <td>PAYMENT</td>\n",
       "      <td>11668.14</td>\n",
       "      <td>C2048537720</td>\n",
       "      <td>41554.0</td>\n",
       "      <td>29885.86</td>\n",
       "      <td>M1230701703</td>\n",
       "      <td>0.0</td>\n",
       "      <td>0.0</td>\n",
       "      <td>0</td>\n",
       "      <td>0</td>\n",
       "    </tr>\n",
       "  </tbody>\n",
       "</table>\n",
       "</div>"
      ],
      "text/plain": [
       "   step      type    amount     nameOrig  oldbalanceOrg  newbalanceOrig  \\\n",
       "0     1   PAYMENT   9839.64  C1231006815       170136.0       160296.36   \n",
       "1     1   PAYMENT   1864.28  C1666544295        21249.0        19384.72   \n",
       "2     1  TRANSFER    181.00  C1305486145          181.0            0.00   \n",
       "3     1  CASH_OUT    181.00   C840083671          181.0            0.00   \n",
       "4     1   PAYMENT  11668.14  C2048537720        41554.0        29885.86   \n",
       "\n",
       "      nameDest  oldbalanceDest  newbalanceDest  isFraud  isFlaggedFraud  \n",
       "0  M1979787155             0.0             0.0        0               0  \n",
       "1  M2044282225             0.0             0.0        0               0  \n",
       "2   C553264065             0.0             0.0        1               0  \n",
       "3    C38997010         21182.0             0.0        1               0  \n",
       "4  M1230701703             0.0             0.0        0               0  "
      ]
     },
     "execution_count": 4,
     "metadata": {},
     "output_type": "execute_result"
    }
   ],
   "source": [
    "df.head()"
   ]
  },
  {
   "cell_type": "markdown",
   "id": "2ff030c7",
   "metadata": {
    "papermill": {
     "duration": 0.015427,
     "end_time": "2023-08-11T11:41:01.479149",
     "exception": false,
     "start_time": "2023-08-11T11:41:01.463722",
     "status": "completed"
    },
    "tags": []
   },
   "source": [
    "Check struktur data"
   ]
  },
  {
   "cell_type": "code",
   "execution_count": 5,
   "id": "76f060d2",
   "metadata": {
    "execution": {
     "iopub.execute_input": "2023-08-11T11:41:01.515492Z",
     "iopub.status.busy": "2023-08-11T11:41:01.514855Z",
     "iopub.status.idle": "2023-08-11T11:41:08.018487Z",
     "shell.execute_reply": "2023-08-11T11:41:08.016939Z"
    },
    "papermill": {
     "duration": 6.528963,
     "end_time": "2023-08-11T11:41:08.021849",
     "exception": false,
     "start_time": "2023-08-11T11:41:01.492886",
     "status": "completed"
    },
    "tags": []
   },
   "outputs": [
    {
     "name": "stderr",
     "output_type": "stream",
     "text": [
      "/tmp/ipykernel_20/2692742495.py:1: FutureWarning: null_counts is deprecated. Use show_counts instead\n",
      "  df.info(verbose = True, null_counts =True)\n"
     ]
    },
    {
     "name": "stdout",
     "output_type": "stream",
     "text": [
      "<class 'pandas.core.frame.DataFrame'>\n",
      "RangeIndex: 6362620 entries, 0 to 6362619\n",
      "Data columns (total 11 columns):\n",
      " #   Column          Non-Null Count    Dtype  \n",
      "---  ------          --------------    -----  \n",
      " 0   step            6362620 non-null  int64  \n",
      " 1   type            6362620 non-null  object \n",
      " 2   amount          6362620 non-null  float64\n",
      " 3   nameOrig        6362620 non-null  object \n",
      " 4   oldbalanceOrg   6362620 non-null  float64\n",
      " 5   newbalanceOrig  6362620 non-null  float64\n",
      " 6   nameDest        6362620 non-null  object \n",
      " 7   oldbalanceDest  6362620 non-null  float64\n",
      " 8   newbalanceDest  6362620 non-null  float64\n",
      " 9   isFraud         6362620 non-null  int64  \n",
      " 10  isFlaggedFraud  6362620 non-null  int64  \n",
      "dtypes: float64(5), int64(3), object(3)\n",
      "memory usage: 534.0+ MB\n"
     ]
    }
   ],
   "source": [
    "df.info(verbose = True, null_counts =True)"
   ]
  },
  {
   "cell_type": "code",
   "execution_count": 6,
   "id": "ceb509ec",
   "metadata": {
    "execution": {
     "iopub.execute_input": "2023-08-11T11:41:08.051005Z",
     "iopub.status.busy": "2023-08-11T11:41:08.050469Z",
     "iopub.status.idle": "2023-08-11T11:41:08.058596Z",
     "shell.execute_reply": "2023-08-11T11:41:08.057248Z"
    },
    "papermill": {
     "duration": 0.026054,
     "end_time": "2023-08-11T11:41:08.061430",
     "exception": false,
     "start_time": "2023-08-11T11:41:08.035376",
     "status": "completed"
    },
    "tags": []
   },
   "outputs": [
    {
     "data": {
      "text/plain": [
       "(6362620, 11)"
      ]
     },
     "execution_count": 6,
     "metadata": {},
     "output_type": "execute_result"
    }
   ],
   "source": [
    "df.shape"
   ]
  },
  {
   "cell_type": "markdown",
   "id": "86fc0344",
   "metadata": {
    "papermill": {
     "duration": 0.012997,
     "end_time": "2023-08-11T11:41:08.088060",
     "exception": false,
     "start_time": "2023-08-11T11:41:08.075063",
     "status": "completed"
    },
    "tags": []
   },
   "source": [
    "get statistical summary"
   ]
  },
  {
   "cell_type": "code",
   "execution_count": 7,
   "id": "68b61aef",
   "metadata": {
    "execution": {
     "iopub.execute_input": "2023-08-11T11:41:08.117940Z",
     "iopub.status.busy": "2023-08-11T11:41:08.116851Z",
     "iopub.status.idle": "2023-08-11T11:41:10.883860Z",
     "shell.execute_reply": "2023-08-11T11:41:10.882522Z"
    },
    "papermill": {
     "duration": 2.786114,
     "end_time": "2023-08-11T11:41:10.887616",
     "exception": false,
     "start_time": "2023-08-11T11:41:08.101502",
     "status": "completed"
    },
    "tags": []
   },
   "outputs": [
    {
     "data": {
      "text/html": [
       "<div>\n",
       "<style scoped>\n",
       "    .dataframe tbody tr th:only-of-type {\n",
       "        vertical-align: middle;\n",
       "    }\n",
       "\n",
       "    .dataframe tbody tr th {\n",
       "        vertical-align: top;\n",
       "    }\n",
       "\n",
       "    .dataframe thead th {\n",
       "        text-align: right;\n",
       "    }\n",
       "</style>\n",
       "<table border=\"1\" class=\"dataframe\">\n",
       "  <thead>\n",
       "    <tr style=\"text-align: right;\">\n",
       "      <th></th>\n",
       "      <th>step</th>\n",
       "      <th>amount</th>\n",
       "      <th>oldbalanceOrg</th>\n",
       "      <th>newbalanceOrig</th>\n",
       "      <th>oldbalanceDest</th>\n",
       "      <th>newbalanceDest</th>\n",
       "      <th>isFraud</th>\n",
       "      <th>isFlaggedFraud</th>\n",
       "    </tr>\n",
       "  </thead>\n",
       "  <tbody>\n",
       "    <tr>\n",
       "      <th>count</th>\n",
       "      <td>6.362620e+06</td>\n",
       "      <td>6.362620e+06</td>\n",
       "      <td>6.362620e+06</td>\n",
       "      <td>6.362620e+06</td>\n",
       "      <td>6.362620e+06</td>\n",
       "      <td>6.362620e+06</td>\n",
       "      <td>6.362620e+06</td>\n",
       "      <td>6.362620e+06</td>\n",
       "    </tr>\n",
       "    <tr>\n",
       "      <th>mean</th>\n",
       "      <td>2.433972e+02</td>\n",
       "      <td>1.798619e+05</td>\n",
       "      <td>8.338831e+05</td>\n",
       "      <td>8.551137e+05</td>\n",
       "      <td>1.100702e+06</td>\n",
       "      <td>1.224996e+06</td>\n",
       "      <td>1.290820e-03</td>\n",
       "      <td>2.514687e-06</td>\n",
       "    </tr>\n",
       "    <tr>\n",
       "      <th>std</th>\n",
       "      <td>1.423320e+02</td>\n",
       "      <td>6.038582e+05</td>\n",
       "      <td>2.888243e+06</td>\n",
       "      <td>2.924049e+06</td>\n",
       "      <td>3.399180e+06</td>\n",
       "      <td>3.674129e+06</td>\n",
       "      <td>3.590480e-02</td>\n",
       "      <td>1.585775e-03</td>\n",
       "    </tr>\n",
       "    <tr>\n",
       "      <th>min</th>\n",
       "      <td>1.000000e+00</td>\n",
       "      <td>0.000000e+00</td>\n",
       "      <td>0.000000e+00</td>\n",
       "      <td>0.000000e+00</td>\n",
       "      <td>0.000000e+00</td>\n",
       "      <td>0.000000e+00</td>\n",
       "      <td>0.000000e+00</td>\n",
       "      <td>0.000000e+00</td>\n",
       "    </tr>\n",
       "    <tr>\n",
       "      <th>25%</th>\n",
       "      <td>1.560000e+02</td>\n",
       "      <td>1.338957e+04</td>\n",
       "      <td>0.000000e+00</td>\n",
       "      <td>0.000000e+00</td>\n",
       "      <td>0.000000e+00</td>\n",
       "      <td>0.000000e+00</td>\n",
       "      <td>0.000000e+00</td>\n",
       "      <td>0.000000e+00</td>\n",
       "    </tr>\n",
       "    <tr>\n",
       "      <th>50%</th>\n",
       "      <td>2.390000e+02</td>\n",
       "      <td>7.487194e+04</td>\n",
       "      <td>1.420800e+04</td>\n",
       "      <td>0.000000e+00</td>\n",
       "      <td>1.327057e+05</td>\n",
       "      <td>2.146614e+05</td>\n",
       "      <td>0.000000e+00</td>\n",
       "      <td>0.000000e+00</td>\n",
       "    </tr>\n",
       "    <tr>\n",
       "      <th>75%</th>\n",
       "      <td>3.350000e+02</td>\n",
       "      <td>2.087215e+05</td>\n",
       "      <td>1.073152e+05</td>\n",
       "      <td>1.442584e+05</td>\n",
       "      <td>9.430367e+05</td>\n",
       "      <td>1.111909e+06</td>\n",
       "      <td>0.000000e+00</td>\n",
       "      <td>0.000000e+00</td>\n",
       "    </tr>\n",
       "    <tr>\n",
       "      <th>max</th>\n",
       "      <td>7.430000e+02</td>\n",
       "      <td>9.244552e+07</td>\n",
       "      <td>5.958504e+07</td>\n",
       "      <td>4.958504e+07</td>\n",
       "      <td>3.560159e+08</td>\n",
       "      <td>3.561793e+08</td>\n",
       "      <td>1.000000e+00</td>\n",
       "      <td>1.000000e+00</td>\n",
       "    </tr>\n",
       "  </tbody>\n",
       "</table>\n",
       "</div>"
      ],
      "text/plain": [
       "               step        amount  oldbalanceOrg  newbalanceOrig  \\\n",
       "count  6.362620e+06  6.362620e+06   6.362620e+06    6.362620e+06   \n",
       "mean   2.433972e+02  1.798619e+05   8.338831e+05    8.551137e+05   \n",
       "std    1.423320e+02  6.038582e+05   2.888243e+06    2.924049e+06   \n",
       "min    1.000000e+00  0.000000e+00   0.000000e+00    0.000000e+00   \n",
       "25%    1.560000e+02  1.338957e+04   0.000000e+00    0.000000e+00   \n",
       "50%    2.390000e+02  7.487194e+04   1.420800e+04    0.000000e+00   \n",
       "75%    3.350000e+02  2.087215e+05   1.073152e+05    1.442584e+05   \n",
       "max    7.430000e+02  9.244552e+07   5.958504e+07    4.958504e+07   \n",
       "\n",
       "       oldbalanceDest  newbalanceDest       isFraud  isFlaggedFraud  \n",
       "count    6.362620e+06    6.362620e+06  6.362620e+06    6.362620e+06  \n",
       "mean     1.100702e+06    1.224996e+06  1.290820e-03    2.514687e-06  \n",
       "std      3.399180e+06    3.674129e+06  3.590480e-02    1.585775e-03  \n",
       "min      0.000000e+00    0.000000e+00  0.000000e+00    0.000000e+00  \n",
       "25%      0.000000e+00    0.000000e+00  0.000000e+00    0.000000e+00  \n",
       "50%      1.327057e+05    2.146614e+05  0.000000e+00    0.000000e+00  \n",
       "75%      9.430367e+05    1.111909e+06  0.000000e+00    0.000000e+00  \n",
       "max      3.560159e+08    3.561793e+08  1.000000e+00    1.000000e+00  "
      ]
     },
     "execution_count": 7,
     "metadata": {},
     "output_type": "execute_result"
    }
   ],
   "source": [
    "df.describe()"
   ]
  },
  {
   "cell_type": "markdown",
   "id": "71aa1ea7",
   "metadata": {
    "papermill": {
     "duration": 0.014838,
     "end_time": "2023-08-11T11:41:10.916736",
     "exception": false,
     "start_time": "2023-08-11T11:41:10.901898",
     "status": "completed"
    },
    "tags": []
   },
   "source": [
    "analize categorical variables"
   ]
  },
  {
   "cell_type": "code",
   "execution_count": 8,
   "id": "6f41a6d5",
   "metadata": {
    "execution": {
     "iopub.execute_input": "2023-08-11T11:41:10.948975Z",
     "iopub.status.busy": "2023-08-11T11:41:10.948364Z",
     "iopub.status.idle": "2023-08-11T11:41:11.527829Z",
     "shell.execute_reply": "2023-08-11T11:41:11.526244Z"
    },
    "papermill": {
     "duration": 0.598874,
     "end_time": "2023-08-11T11:41:11.530668",
     "exception": false,
     "start_time": "2023-08-11T11:41:10.931794",
     "status": "completed"
    },
    "tags": []
   },
   "outputs": [
    {
     "data": {
      "text/plain": [
       "Index(['type', 'nameOrig', 'nameDest'], dtype='object')"
      ]
     },
     "execution_count": 8,
     "metadata": {},
     "output_type": "execute_result"
    }
   ],
   "source": [
    "df.select_dtypes(include='object').columns"
   ]
  },
  {
   "cell_type": "code",
   "execution_count": 9,
   "id": "46e5da58",
   "metadata": {
    "execution": {
     "iopub.execute_input": "2023-08-11T11:41:11.567704Z",
     "iopub.status.busy": "2023-08-11T11:41:11.567196Z",
     "iopub.status.idle": "2023-08-11T11:41:12.129491Z",
     "shell.execute_reply": "2023-08-11T11:41:12.127959Z"
    },
    "papermill": {
     "duration": 0.585837,
     "end_time": "2023-08-11T11:41:12.133322",
     "exception": false,
     "start_time": "2023-08-11T11:41:11.547485",
     "status": "completed"
    },
    "tags": []
   },
   "outputs": [
    {
     "data": {
      "text/plain": [
       "3"
      ]
     },
     "execution_count": 9,
     "metadata": {},
     "output_type": "execute_result"
    }
   ],
   "source": [
    "len(df.select_dtypes(include='object').columns)"
   ]
  },
  {
   "cell_type": "markdown",
   "id": "0d296a5a",
   "metadata": {
    "papermill": {
     "duration": 0.013799,
     "end_time": "2023-08-11T11:41:12.162230",
     "exception": false,
     "start_time": "2023-08-11T11:41:12.148431",
     "status": "completed"
    },
    "tags": []
   },
   "source": [
    "analize numerical variables"
   ]
  },
  {
   "cell_type": "code",
   "execution_count": 10,
   "id": "81f8fe4a",
   "metadata": {
    "execution": {
     "iopub.execute_input": "2023-08-11T11:41:12.194286Z",
     "iopub.status.busy": "2023-08-11T11:41:12.193718Z",
     "iopub.status.idle": "2023-08-11T11:41:12.485958Z",
     "shell.execute_reply": "2023-08-11T11:41:12.484340Z"
    },
    "papermill": {
     "duration": 0.311877,
     "end_time": "2023-08-11T11:41:12.489141",
     "exception": false,
     "start_time": "2023-08-11T11:41:12.177264",
     "status": "completed"
    },
    "tags": []
   },
   "outputs": [
    {
     "data": {
      "text/plain": [
       "Index(['step', 'amount', 'oldbalanceOrg', 'newbalanceOrig', 'oldbalanceDest',\n",
       "       'newbalanceDest', 'isFraud', 'isFlaggedFraud'],\n",
       "      dtype='object')"
      ]
     },
     "execution_count": 10,
     "metadata": {},
     "output_type": "execute_result"
    }
   ],
   "source": [
    "df.select_dtypes(include=[\"int64\",\"float64\"]).columns"
   ]
  },
  {
   "cell_type": "code",
   "execution_count": 11,
   "id": "9dbd4016",
   "metadata": {
    "execution": {
     "iopub.execute_input": "2023-08-11T11:41:12.522575Z",
     "iopub.status.busy": "2023-08-11T11:41:12.521966Z",
     "iopub.status.idle": "2023-08-11T11:41:12.809752Z",
     "shell.execute_reply": "2023-08-11T11:41:12.808420Z"
    },
    "papermill": {
     "duration": 0.308037,
     "end_time": "2023-08-11T11:41:12.812952",
     "exception": false,
     "start_time": "2023-08-11T11:41:12.504915",
     "status": "completed"
    },
    "tags": []
   },
   "outputs": [
    {
     "data": {
      "text/plain": [
       "8"
      ]
     },
     "execution_count": 11,
     "metadata": {},
     "output_type": "execute_result"
    }
   ],
   "source": [
    "len(df.select_dtypes(include=[\"int64\",\"float64\"]).columns)"
   ]
  },
  {
   "cell_type": "markdown",
   "id": "ed37c8bb",
   "metadata": {
    "papermill": {
     "duration": 0.015631,
     "end_time": "2023-08-11T11:41:12.845620",
     "exception": false,
     "start_time": "2023-08-11T11:41:12.829989",
     "status": "completed"
    },
    "tags": []
   },
   "source": [
    "dealing with missing value"
   ]
  },
  {
   "cell_type": "code",
   "execution_count": 12,
   "id": "352a6707",
   "metadata": {
    "execution": {
     "iopub.execute_input": "2023-08-11T11:41:12.878470Z",
     "iopub.status.busy": "2023-08-11T11:41:12.877946Z",
     "iopub.status.idle": "2023-08-11T11:41:19.331937Z",
     "shell.execute_reply": "2023-08-11T11:41:19.330571Z"
    },
    "papermill": {
     "duration": 6.473863,
     "end_time": "2023-08-11T11:41:19.334601",
     "exception": false,
     "start_time": "2023-08-11T11:41:12.860738",
     "status": "completed"
    },
    "tags": []
   },
   "outputs": [
    {
     "data": {
      "text/plain": [
       "False"
      ]
     },
     "execution_count": 12,
     "metadata": {},
     "output_type": "execute_result"
    }
   ],
   "source": [
    "df.isnull().values.any()"
   ]
  },
  {
   "cell_type": "markdown",
   "id": "b4d0590a",
   "metadata": {
    "papermill": {
     "duration": 0.013954,
     "end_time": "2023-08-11T11:41:19.363231",
     "exception": false,
     "start_time": "2023-08-11T11:41:19.349277",
     "status": "completed"
    },
    "tags": []
   },
   "source": [
    "delete 'nameOrig'dan 'nameDest' for dimension reduction"
   ]
  },
  {
   "cell_type": "code",
   "execution_count": 13,
   "id": "4cdb61f5",
   "metadata": {
    "execution": {
     "iopub.execute_input": "2023-08-11T11:41:19.396428Z",
     "iopub.status.busy": "2023-08-11T11:41:19.395914Z",
     "iopub.status.idle": "2023-08-11T11:41:19.420108Z",
     "shell.execute_reply": "2023-08-11T11:41:19.418578Z"
    },
    "papermill": {
     "duration": 0.043924,
     "end_time": "2023-08-11T11:41:19.423011",
     "exception": false,
     "start_time": "2023-08-11T11:41:19.379087",
     "status": "completed"
    },
    "tags": []
   },
   "outputs": [
    {
     "data": {
      "text/html": [
       "<div>\n",
       "<style scoped>\n",
       "    .dataframe tbody tr th:only-of-type {\n",
       "        vertical-align: middle;\n",
       "    }\n",
       "\n",
       "    .dataframe tbody tr th {\n",
       "        vertical-align: top;\n",
       "    }\n",
       "\n",
       "    .dataframe thead th {\n",
       "        text-align: right;\n",
       "    }\n",
       "</style>\n",
       "<table border=\"1\" class=\"dataframe\">\n",
       "  <thead>\n",
       "    <tr style=\"text-align: right;\">\n",
       "      <th></th>\n",
       "      <th>step</th>\n",
       "      <th>type</th>\n",
       "      <th>amount</th>\n",
       "      <th>nameOrig</th>\n",
       "      <th>oldbalanceOrg</th>\n",
       "      <th>newbalanceOrig</th>\n",
       "      <th>nameDest</th>\n",
       "      <th>oldbalanceDest</th>\n",
       "      <th>newbalanceDest</th>\n",
       "      <th>isFraud</th>\n",
       "      <th>isFlaggedFraud</th>\n",
       "    </tr>\n",
       "  </thead>\n",
       "  <tbody>\n",
       "    <tr>\n",
       "      <th>0</th>\n",
       "      <td>1</td>\n",
       "      <td>PAYMENT</td>\n",
       "      <td>9839.64</td>\n",
       "      <td>C1231006815</td>\n",
       "      <td>170136.0</td>\n",
       "      <td>160296.36</td>\n",
       "      <td>M1979787155</td>\n",
       "      <td>0.0</td>\n",
       "      <td>0.0</td>\n",
       "      <td>0</td>\n",
       "      <td>0</td>\n",
       "    </tr>\n",
       "    <tr>\n",
       "      <th>1</th>\n",
       "      <td>1</td>\n",
       "      <td>PAYMENT</td>\n",
       "      <td>1864.28</td>\n",
       "      <td>C1666544295</td>\n",
       "      <td>21249.0</td>\n",
       "      <td>19384.72</td>\n",
       "      <td>M2044282225</td>\n",
       "      <td>0.0</td>\n",
       "      <td>0.0</td>\n",
       "      <td>0</td>\n",
       "      <td>0</td>\n",
       "    </tr>\n",
       "    <tr>\n",
       "      <th>2</th>\n",
       "      <td>1</td>\n",
       "      <td>TRANSFER</td>\n",
       "      <td>181.00</td>\n",
       "      <td>C1305486145</td>\n",
       "      <td>181.0</td>\n",
       "      <td>0.00</td>\n",
       "      <td>C553264065</td>\n",
       "      <td>0.0</td>\n",
       "      <td>0.0</td>\n",
       "      <td>1</td>\n",
       "      <td>0</td>\n",
       "    </tr>\n",
       "    <tr>\n",
       "      <th>3</th>\n",
       "      <td>1</td>\n",
       "      <td>CASH_OUT</td>\n",
       "      <td>181.00</td>\n",
       "      <td>C840083671</td>\n",
       "      <td>181.0</td>\n",
       "      <td>0.00</td>\n",
       "      <td>C38997010</td>\n",
       "      <td>21182.0</td>\n",
       "      <td>0.0</td>\n",
       "      <td>1</td>\n",
       "      <td>0</td>\n",
       "    </tr>\n",
       "    <tr>\n",
       "      <th>4</th>\n",
       "      <td>1</td>\n",
       "      <td>PAYMENT</td>\n",
       "      <td>11668.14</td>\n",
       "      <td>C2048537720</td>\n",
       "      <td>41554.0</td>\n",
       "      <td>29885.86</td>\n",
       "      <td>M1230701703</td>\n",
       "      <td>0.0</td>\n",
       "      <td>0.0</td>\n",
       "      <td>0</td>\n",
       "      <td>0</td>\n",
       "    </tr>\n",
       "  </tbody>\n",
       "</table>\n",
       "</div>"
      ],
      "text/plain": [
       "   step      type    amount     nameOrig  oldbalanceOrg  newbalanceOrig  \\\n",
       "0     1   PAYMENT   9839.64  C1231006815       170136.0       160296.36   \n",
       "1     1   PAYMENT   1864.28  C1666544295        21249.0        19384.72   \n",
       "2     1  TRANSFER    181.00  C1305486145          181.0            0.00   \n",
       "3     1  CASH_OUT    181.00   C840083671          181.0            0.00   \n",
       "4     1   PAYMENT  11668.14  C2048537720        41554.0        29885.86   \n",
       "\n",
       "      nameDest  oldbalanceDest  newbalanceDest  isFraud  isFlaggedFraud  \n",
       "0  M1979787155             0.0             0.0        0               0  \n",
       "1  M2044282225             0.0             0.0        0               0  \n",
       "2   C553264065             0.0             0.0        1               0  \n",
       "3    C38997010         21182.0             0.0        1               0  \n",
       "4  M1230701703             0.0             0.0        0               0  "
      ]
     },
     "execution_count": 13,
     "metadata": {},
     "output_type": "execute_result"
    }
   ],
   "source": [
    "df.head()"
   ]
  },
  {
   "cell_type": "code",
   "execution_count": 14,
   "id": "c85bf9ee",
   "metadata": {
    "execution": {
     "iopub.execute_input": "2023-08-11T11:41:19.455479Z",
     "iopub.status.busy": "2023-08-11T11:41:19.454897Z",
     "iopub.status.idle": "2023-08-11T11:41:19.777293Z",
     "shell.execute_reply": "2023-08-11T11:41:19.775598Z"
    },
    "papermill": {
     "duration": 0.342623,
     "end_time": "2023-08-11T11:41:19.780581",
     "exception": false,
     "start_time": "2023-08-11T11:41:19.437958",
     "status": "completed"
    },
    "tags": []
   },
   "outputs": [],
   "source": [
    "df.drop(columns=[\"nameOrig\", \"nameDest\"], inplace=True)"
   ]
  },
  {
   "cell_type": "code",
   "execution_count": 15,
   "id": "cbd35a46",
   "metadata": {
    "execution": {
     "iopub.execute_input": "2023-08-11T11:41:19.813087Z",
     "iopub.status.busy": "2023-08-11T11:41:19.812540Z",
     "iopub.status.idle": "2023-08-11T11:41:19.834630Z",
     "shell.execute_reply": "2023-08-11T11:41:19.833500Z"
    },
    "papermill": {
     "duration": 0.041705,
     "end_time": "2023-08-11T11:41:19.837547",
     "exception": false,
     "start_time": "2023-08-11T11:41:19.795842",
     "status": "completed"
    },
    "tags": []
   },
   "outputs": [
    {
     "data": {
      "text/html": [
       "<div>\n",
       "<style scoped>\n",
       "    .dataframe tbody tr th:only-of-type {\n",
       "        vertical-align: middle;\n",
       "    }\n",
       "\n",
       "    .dataframe tbody tr th {\n",
       "        vertical-align: top;\n",
       "    }\n",
       "\n",
       "    .dataframe thead th {\n",
       "        text-align: right;\n",
       "    }\n",
       "</style>\n",
       "<table border=\"1\" class=\"dataframe\">\n",
       "  <thead>\n",
       "    <tr style=\"text-align: right;\">\n",
       "      <th></th>\n",
       "      <th>step</th>\n",
       "      <th>type</th>\n",
       "      <th>amount</th>\n",
       "      <th>oldbalanceOrg</th>\n",
       "      <th>newbalanceOrig</th>\n",
       "      <th>oldbalanceDest</th>\n",
       "      <th>newbalanceDest</th>\n",
       "      <th>isFraud</th>\n",
       "      <th>isFlaggedFraud</th>\n",
       "    </tr>\n",
       "  </thead>\n",
       "  <tbody>\n",
       "    <tr>\n",
       "      <th>0</th>\n",
       "      <td>1</td>\n",
       "      <td>PAYMENT</td>\n",
       "      <td>9839.64</td>\n",
       "      <td>170136.0</td>\n",
       "      <td>160296.36</td>\n",
       "      <td>0.0</td>\n",
       "      <td>0.0</td>\n",
       "      <td>0</td>\n",
       "      <td>0</td>\n",
       "    </tr>\n",
       "    <tr>\n",
       "      <th>1</th>\n",
       "      <td>1</td>\n",
       "      <td>PAYMENT</td>\n",
       "      <td>1864.28</td>\n",
       "      <td>21249.0</td>\n",
       "      <td>19384.72</td>\n",
       "      <td>0.0</td>\n",
       "      <td>0.0</td>\n",
       "      <td>0</td>\n",
       "      <td>0</td>\n",
       "    </tr>\n",
       "    <tr>\n",
       "      <th>2</th>\n",
       "      <td>1</td>\n",
       "      <td>TRANSFER</td>\n",
       "      <td>181.00</td>\n",
       "      <td>181.0</td>\n",
       "      <td>0.00</td>\n",
       "      <td>0.0</td>\n",
       "      <td>0.0</td>\n",
       "      <td>1</td>\n",
       "      <td>0</td>\n",
       "    </tr>\n",
       "    <tr>\n",
       "      <th>3</th>\n",
       "      <td>1</td>\n",
       "      <td>CASH_OUT</td>\n",
       "      <td>181.00</td>\n",
       "      <td>181.0</td>\n",
       "      <td>0.00</td>\n",
       "      <td>21182.0</td>\n",
       "      <td>0.0</td>\n",
       "      <td>1</td>\n",
       "      <td>0</td>\n",
       "    </tr>\n",
       "    <tr>\n",
       "      <th>4</th>\n",
       "      <td>1</td>\n",
       "      <td>PAYMENT</td>\n",
       "      <td>11668.14</td>\n",
       "      <td>41554.0</td>\n",
       "      <td>29885.86</td>\n",
       "      <td>0.0</td>\n",
       "      <td>0.0</td>\n",
       "      <td>0</td>\n",
       "      <td>0</td>\n",
       "    </tr>\n",
       "  </tbody>\n",
       "</table>\n",
       "</div>"
      ],
      "text/plain": [
       "   step      type    amount  oldbalanceOrg  newbalanceOrig  oldbalanceDest  \\\n",
       "0     1   PAYMENT   9839.64       170136.0       160296.36             0.0   \n",
       "1     1   PAYMENT   1864.28        21249.0        19384.72             0.0   \n",
       "2     1  TRANSFER    181.00          181.0            0.00             0.0   \n",
       "3     1  CASH_OUT    181.00          181.0            0.00         21182.0   \n",
       "4     1   PAYMENT  11668.14        41554.0        29885.86             0.0   \n",
       "\n",
       "   newbalanceDest  isFraud  isFlaggedFraud  \n",
       "0             0.0        0               0  \n",
       "1             0.0        0               0  \n",
       "2             0.0        1               0  \n",
       "3             0.0        1               0  \n",
       "4             0.0        0               0  "
      ]
     },
     "execution_count": 15,
     "metadata": {},
     "output_type": "execute_result"
    }
   ],
   "source": [
    "df.head()"
   ]
  },
  {
   "cell_type": "markdown",
   "id": "6bf37a48",
   "metadata": {
    "papermill": {
     "duration": 0.015768,
     "end_time": "2023-08-11T11:41:19.869937",
     "exception": false,
     "start_time": "2023-08-11T11:41:19.854169",
     "status": "completed"
    },
    "tags": []
   },
   "source": [
    "do one hot for type"
   ]
  },
  {
   "cell_type": "code",
   "execution_count": 16,
   "id": "c4ab99dc",
   "metadata": {
    "execution": {
     "iopub.execute_input": "2023-08-11T11:41:19.904970Z",
     "iopub.status.busy": "2023-08-11T11:41:19.904432Z",
     "iopub.status.idle": "2023-08-11T11:41:21.613943Z",
     "shell.execute_reply": "2023-08-11T11:41:21.612322Z"
    },
    "papermill": {
     "duration": 1.73102,
     "end_time": "2023-08-11T11:41:21.617291",
     "exception": false,
     "start_time": "2023-08-11T11:41:19.886271",
     "status": "completed"
    },
    "tags": []
   },
   "outputs": [],
   "source": [
    "df2 = pd.get_dummies(df, columns=[\"type\"], prefix=[\"type\"])"
   ]
  },
  {
   "cell_type": "markdown",
   "id": "490493f5",
   "metadata": {
    "papermill": {
     "duration": 0.016401,
     "end_time": "2023-08-11T11:41:21.649139",
     "exception": false,
     "start_time": "2023-08-11T11:41:21.632738",
     "status": "completed"
    },
    "tags": []
   },
   "source": [
    "chek correlation"
   ]
  },
  {
   "cell_type": "code",
   "execution_count": 17,
   "id": "ad2da73d",
   "metadata": {
    "execution": {
     "iopub.execute_input": "2023-08-11T11:41:21.682757Z",
     "iopub.status.busy": "2023-08-11T11:41:21.682081Z",
     "iopub.status.idle": "2023-08-11T11:41:25.767228Z",
     "shell.execute_reply": "2023-08-11T11:41:25.766235Z"
    },
    "papermill": {
     "duration": 4.105487,
     "end_time": "2023-08-11T11:41:25.770003",
     "exception": false,
     "start_time": "2023-08-11T11:41:21.664516",
     "status": "completed"
    },
    "tags": []
   },
   "outputs": [
    {
     "data": {
      "text/plain": [
       "isFraud           1.000000\n",
       "amount            0.076688\n",
       "type_TRANSFER     0.053869\n",
       "isFlaggedFraud    0.044109\n",
       "step              0.031578\n",
       "type_CASH_OUT     0.011256\n",
       "oldbalanceOrg     0.010154\n",
       "newbalanceDest    0.000535\n",
       "type_DEBIT       -0.002911\n",
       "oldbalanceDest   -0.005885\n",
       "newbalanceOrig   -0.008148\n",
       "type_CASH_IN     -0.019089\n",
       "type_PAYMENT     -0.025697\n",
       "Name: isFraud, dtype: float64"
      ]
     },
     "execution_count": 17,
     "metadata": {},
     "output_type": "execute_result"
    }
   ],
   "source": [
    "df2.corr(numeric_only=False)[\"isFraud\"].sort_values(ascending=False)"
   ]
  },
  {
   "cell_type": "markdown",
   "id": "c0b6a5fd",
   "metadata": {
    "papermill": {
     "duration": 0.015464,
     "end_time": "2023-08-11T11:41:25.803157",
     "exception": false,
     "start_time": "2023-08-11T11:41:25.787693",
     "status": "completed"
    },
    "tags": []
   },
   "source": []
  },
  {
   "cell_type": "code",
   "execution_count": 18,
   "id": "4409cd35",
   "metadata": {
    "execution": {
     "iopub.execute_input": "2023-08-11T11:41:25.838358Z",
     "iopub.status.busy": "2023-08-11T11:41:25.836794Z",
     "iopub.status.idle": "2023-08-11T11:41:32.120311Z",
     "shell.execute_reply": "2023-08-11T11:41:32.119175Z"
    },
    "papermill": {
     "duration": 6.30378,
     "end_time": "2023-08-11T11:41:32.123548",
     "exception": false,
     "start_time": "2023-08-11T11:41:25.819768",
     "status": "completed"
    },
    "tags": []
   },
   "outputs": [
    {
     "data": {
      "image/png": "[encoded data removed]",
      "text/plain": [
       "<Figure size 500x500 with 2 Axes>"
      ]
     },
     "metadata": {},
     "output_type": "display_data"
    }
   ],
   "source": [
    "f=plt.figure(figsize=(5,5))\n",
    "plt.matshow(df2.corr(numeric_only=False),fignum=f.number)\n",
    "plt.xticks(range(df2.select_dtypes(['number','object']).shape[1]),df2.select_dtypes(['number','object']).columns,fontsize=14,rotation=90)\n",
    "plt.yticks(range(df2.select_dtypes(['number','object']).shape[1]),df2.select_dtypes(['number','object']).columns,fontsize=14)\n",
    "cb = plt.colorbar()\n",
    "cb.ax.tick_params(labelsize=14)\n",
    "plt.title('Correlation Matrix',fontsize=16);"
   ]
  },
  {
   "cell_type": "markdown",
   "id": "45faa57c",
   "metadata": {
    "papermill": {
     "duration": 0.017414,
     "end_time": "2023-08-11T11:41:32.157792",
     "exception": false,
     "start_time": "2023-08-11T11:41:32.140378",
     "status": "completed"
    },
    "tags": []
   },
   "source": [
    "normalisasi"
   ]
  },
  {
   "cell_type": "code",
   "execution_count": 19,
   "id": "09c74227",
   "metadata": {
    "execution": {
     "iopub.execute_input": "2023-08-11T11:41:32.196865Z",
     "iopub.status.busy": "2023-08-11T11:41:32.194808Z",
     "iopub.status.idle": "2023-08-11T11:41:34.965376Z",
     "shell.execute_reply": "2023-08-11T11:41:34.963323Z"
    },
    "papermill": {
     "duration": 2.793341,
     "end_time": "2023-08-11T11:41:34.969412",
     "exception": false,
     "start_time": "2023-08-11T11:41:32.176071",
     "status": "completed"
    },
    "tags": []
   },
   "outputs": [],
   "source": [
    "scaler = MinMaxScaler()\n",
    "numeric_columns = ['step', 'amount', 'oldbalanceOrg', 'newbalanceOrig', 'oldbalanceDest', 'newbalanceDest', 'isFlaggedFraud', 'type_CASH_IN', 'type_CASH_OUT', 'type_DEBIT', 'type_PAYMENT', 'type_TRANSFER']\n",
    "df2[numeric_columns] = scaler.fit_transform(df2[numeric_columns])"
   ]
  },
  {
   "cell_type": "markdown",
   "id": "5406c35f",
   "metadata": {
    "papermill": {
     "duration": 0.016429,
     "end_time": "2023-08-11T11:41:35.003182",
     "exception": false,
     "start_time": "2023-08-11T11:41:34.986753",
     "status": "completed"
    },
    "tags": []
   },
   "source": [
    "split the df into train, val, test"
   ]
  },
  {
   "cell_type": "code",
   "execution_count": 20,
   "id": "a7e81e29",
   "metadata": {
    "execution": {
     "iopub.execute_input": "2023-08-11T11:41:35.040027Z",
     "iopub.status.busy": "2023-08-11T11:41:35.038957Z",
     "iopub.status.idle": "2023-08-11T11:41:40.804599Z",
     "shell.execute_reply": "2023-08-11T11:41:40.803084Z"
    },
    "papermill": {
     "duration": 5.788258,
     "end_time": "2023-08-11T11:41:40.808277",
     "exception": false,
     "start_time": "2023-08-11T11:41:35.020019",
     "status": "completed"
    },
    "tags": []
   },
   "outputs": [],
   "source": [
    "train, test = train_test_split(df2, test_size=0.2)\n",
    "train, val = train_test_split(train, test_size=0.2)"
   ]
  },
  {
   "cell_type": "code",
   "execution_count": 21,
   "id": "fd1abb32",
   "metadata": {
    "execution": {
     "iopub.execute_input": "2023-08-11T11:41:40.847149Z",
     "iopub.status.busy": "2023-08-11T11:41:40.846584Z",
     "iopub.status.idle": "2023-08-11T11:41:40.854101Z",
     "shell.execute_reply": "2023-08-11T11:41:40.852872Z"
    },
    "papermill": {
     "duration": 0.030879,
     "end_time": "2023-08-11T11:41:40.856849",
     "exception": false,
     "start_time": "2023-08-11T11:41:40.825970",
     "status": "completed"
    },
    "tags": []
   },
   "outputs": [
    {
     "name": "stdout",
     "output_type": "stream",
     "text": [
      "4072076 train examples\n",
      "1018020 validation examples\n",
      "1272524 test examples\n"
     ]
    }
   ],
   "source": [
    "print(len(train), 'train examples')\n",
    "print(len(val), 'validation examples')\n",
    "print(len(test), 'test examples')"
   ]
  },
  {
   "cell_type": "markdown",
   "id": "bf658847",
   "metadata": {
    "papermill": {
     "duration": 0.018155,
     "end_time": "2023-08-11T11:41:40.894750",
     "exception": false,
     "start_time": "2023-08-11T11:41:40.876595",
     "status": "completed"
    },
    "tags": []
   },
   "source": [
    "creating an input pipeline using tf.data"
   ]
  },
  {
   "cell_type": "code",
   "execution_count": 22,
   "id": "11a139d2",
   "metadata": {
    "execution": {
     "iopub.execute_input": "2023-08-11T11:41:40.931751Z",
     "iopub.status.busy": "2023-08-11T11:41:40.930744Z",
     "iopub.status.idle": "2023-08-11T11:41:40.939711Z",
     "shell.execute_reply": "2023-08-11T11:41:40.938217Z"
    },
    "papermill": {
     "duration": 0.030445,
     "end_time": "2023-08-11T11:41:40.942553",
     "exception": false,
     "start_time": "2023-08-11T11:41:40.912108",
     "status": "completed"
    },
    "tags": []
   },
   "outputs": [],
   "source": [
    "def df_to_dataset(dataframe, shuffle=True, batch_size=32):\n",
    "    dataframe = dataframe.copy()\n",
    "    \n",
    "    # Mengambil kolom \"isFraud\" sebagai label\n",
    "    labels = dataframe.pop('isFraud')\n",
    "    \n",
    "    # Membuat tf.data.Dataset dari dataframe dan labels\n",
    "    ds = tf.data.Dataset.from_tensor_slices((dict(dataframe), labels.values))\n",
    "    \n",
    "    if shuffle:\n",
    "        # Mengacak dataset\n",
    "        ds = ds.shuffle(len(dataframe))\n",
    "        \n",
    "    # Membagi dataset menjadi batch\n",
    "    ds = ds.batch(batch_size)\n",
    "    \n",
    "    return ds\n"
   ]
  },
  {
   "cell_type": "markdown",
   "id": "c1ce9518",
   "metadata": {
    "papermill": {
     "duration": 0.016722,
     "end_time": "2023-08-11T11:41:40.977859",
     "exception": false,
     "start_time": "2023-08-11T11:41:40.961137",
     "status": "completed"
    },
    "tags": []
   },
   "source": [
    "create feature layer"
   ]
  },
  {
   "cell_type": "code",
   "execution_count": 23,
   "id": "cedcdaa5",
   "metadata": {
    "execution": {
     "iopub.execute_input": "2023-08-11T11:41:41.015710Z",
     "iopub.status.busy": "2023-08-11T11:41:41.015207Z",
     "iopub.status.idle": "2023-08-11T11:41:41.025766Z",
     "shell.execute_reply": "2023-08-11T11:41:41.024468Z"
    },
    "papermill": {
     "duration": 0.033046,
     "end_time": "2023-08-11T11:41:41.028542",
     "exception": false,
     "start_time": "2023-08-11T11:41:40.995496",
     "status": "completed"
    },
    "tags": []
   },
   "outputs": [
    {
     "data": {
      "text/plain": [
       "step              float64\n",
       "amount            float64\n",
       "oldbalanceOrg     float64\n",
       "newbalanceOrig    float64\n",
       "oldbalanceDest    float64\n",
       "newbalanceDest    float64\n",
       "isFraud             int64\n",
       "isFlaggedFraud    float64\n",
       "type_CASH_IN      float64\n",
       "type_CASH_OUT     float64\n",
       "type_DEBIT        float64\n",
       "type_PAYMENT      float64\n",
       "type_TRANSFER     float64\n",
       "dtype: object"
      ]
     },
     "execution_count": 23,
     "metadata": {},
     "output_type": "execute_result"
    }
   ],
   "source": [
    "df2.dtypes"
   ]
  },
  {
   "cell_type": "code",
   "execution_count": 24,
   "id": "f1629ec4",
   "metadata": {
    "execution": {
     "iopub.execute_input": "2023-08-11T11:41:41.067872Z",
     "iopub.status.busy": "2023-08-11T11:41:41.067408Z",
     "iopub.status.idle": "2023-08-11T11:41:41.109498Z",
     "shell.execute_reply": "2023-08-11T11:41:41.108489Z"
    },
    "papermill": {
     "duration": 0.065736,
     "end_time": "2023-08-11T11:41:41.112404",
     "exception": false,
     "start_time": "2023-08-11T11:41:41.046668",
     "status": "completed"
    },
    "tags": []
   },
   "outputs": [],
   "source": [
    "# Mengambil daftar nama kolom fitur (semua kolom kecuali \"isFraud\")\n",
    "feature_columns = ['step', 'amount', 'oldbalanceOrg', 'newbalanceOrig', 'oldbalanceDest', 'newbalanceDest',\n",
    "                   'isFlaggedFraud', 'type_CASH_IN', 'type_CASH_OUT', 'type_DEBIT', 'type_PAYMENT', 'type_TRANSFER']\n",
    "\n",
    "# Membuat feature columns dari daftar nama kolom\n",
    "feature_columns = [tf.feature_column.numeric_column(col) for col in feature_columns]\n",
    "\n",
    "# Definisikan feature layer menggunakan feature columns\n",
    "feature_layer = tf.keras.layers.DenseFeatures(feature_columns)"
   ]
  },
  {
   "cell_type": "code",
   "execution_count": 25,
   "id": "81ef7cc0",
   "metadata": {
    "execution": {
     "iopub.execute_input": "2023-08-11T11:41:41.149296Z",
     "iopub.status.busy": "2023-08-11T11:41:41.148522Z",
     "iopub.status.idle": "2023-08-11T11:41:42.571966Z",
     "shell.execute_reply": "2023-08-11T11:41:42.570572Z"
    },
    "papermill": {
     "duration": 1.446097,
     "end_time": "2023-08-11T11:41:42.575563",
     "exception": false,
     "start_time": "2023-08-11T11:41:41.129466",
     "status": "completed"
    },
    "tags": []
   },
   "outputs": [],
   "source": [
    "batch_size = 32\n",
    "train_ds = df_to_dataset(train, batch_size=batch_size)\n",
    "val_ds = df_to_dataset(val, shuffle=False, batch_size=batch_size)\n",
    "test_ds = df_to_dataset(test, shuffle=False, batch_size=batch_size)"
   ]
  },
  {
   "cell_type": "markdown",
   "id": "b4098f79",
   "metadata": {
    "papermill": {
     "duration": 0.01658,
     "end_time": "2023-08-11T11:41:42.610145",
     "exception": false,
     "start_time": "2023-08-11T11:41:42.593565",
     "status": "completed"
    },
    "tags": []
   },
   "source": [
    "create, compile and train the model"
   ]
  },
  {
   "cell_type": "code",
   "execution_count": 26,
   "id": "27bad900",
   "metadata": {
    "execution": {
     "iopub.execute_input": "2023-08-11T11:41:42.646932Z",
     "iopub.status.busy": "2023-08-11T11:41:42.646349Z",
     "iopub.status.idle": "2023-08-11T13:15:30.486798Z",
     "shell.execute_reply": "2023-08-11T13:15:30.485477Z"
    },
    "papermill": {
     "duration": 5635.952468,
     "end_time": "2023-08-11T13:15:38.579788",
     "exception": false,
     "start_time": "2023-08-11T11:41:42.627320",
     "status": "completed"
    },
    "tags": []
   },
   "outputs": [
    {
     "name": "stdout",
     "output_type": "stream",
     "text": [
      "Epoch 1/10\n",
      "127253/127253 [==============================] - 560s 4ms/step - loss: 0.0050 - accuracy: 0.9991 - val_loss: 0.0037 - val_accuracy: 0.9993\n",
      "Epoch 2/10\n",
      "127253/127253 [==============================] - 503s 4ms/step - loss: 0.0039 - accuracy: 0.9993 - val_loss: 0.0031 - val_accuracy: 0.9994\n",
      "Epoch 3/10\n",
      "127253/127253 [==============================] - 599s 4ms/step - loss: 0.0036 - accuracy: 0.9993 - val_loss: 0.0030 - val_accuracy: 0.9994\n",
      "Epoch 4/10\n",
      "127253/127253 [==============================] - 543s 4ms/step - loss: 0.0035 - accuracy: 0.9993 - val_loss: 0.0034 - val_accuracy: 0.9994\n",
      "Epoch 5/10\n",
      "127253/127253 [==============================] - 572s 4ms/step - loss: 0.0033 - accuracy: 0.9994 - val_loss: 0.0034 - val_accuracy: 0.9995\n",
      "Epoch 6/10\n",
      "127253/127253 [==============================] - 564s 4ms/step - loss: 0.0033 - accuracy: 0.9994 - val_loss: 0.0032 - val_accuracy: 0.9995\n",
      "Epoch 7/10\n",
      "127253/127253 [==============================] - 546s 4ms/step - loss: 0.0032 - accuracy: 0.9994 - val_loss: 0.0030 - val_accuracy: 0.9995\n",
      "Epoch 8/10\n",
      "127253/127253 [==============================] - 541s 4ms/step - loss: 0.0031 - accuracy: 0.9994 - val_loss: 0.0025 - val_accuracy: 0.9994\n",
      "Epoch 9/10\n",
      "127253/127253 [==============================] - 576s 4ms/step - loss: 0.0030 - accuracy: 0.9994 - val_loss: 0.0026 - val_accuracy: 0.9995\n",
      "Epoch 10/10\n",
      "127253/127253 [==============================] - 560s 4ms/step - loss: 0.0029 - accuracy: 0.9994 - val_loss: 0.0025 - val_accuracy: 0.9995\n"
     ]
    },
    {
     "data": {
      "text/plain": [
       "<keras.callbacks.History at 0x78bdf3635cc0>"
      ]
     },
     "execution_count": 26,
     "metadata": {},
     "output_type": "execute_result"
    }
   ],
   "source": [
    "model = tf.keras.Sequential([\n",
    "        feature_layer,\n",
    "        layers.Dense(128, activation='relu'),\n",
    "        layers.Dense(128, activation='relu'),\n",
    "        layers.Dense(1, activation='sigmoid')\n",
    "])\n",
    "\n",
    "model.compile(optimizer='adam',\n",
    "              loss='binary_crossentropy',\n",
    "              metrics=['accuracy'])\n",
    "\n",
    "model.fit(train_ds,\n",
    "          validation_data=val_ds,\n",
    "          epochs=10)"
   ]
  },
  {
   "cell_type": "code",
   "execution_count": null,
   "id": "726049ca",
   "metadata": {
    "papermill": {
     "duration": 8.029729,
     "end_time": "2023-08-11T13:15:54.577385",
     "exception": false,
     "start_time": "2023-08-11T13:15:46.547656",
     "status": "completed"
    },
    "tags": []
   },
   "outputs": [],
   "source": []
  }
 ],
 "metadata": {
  "kernelspec": {
   "display_name": "Python 3",
   "language": "python",
   "name": "python3"
  },
  "language_info": {
   "codemirror_mode": {
    "name": "ipython",
    "version": 3
   },
   "file_extension": ".py",
   "mimetype": "text/x-python",
   "name": "python",
   "nbconvert_exporter": "python",
   "pygments_lexer": "ipython3",
   "version": "3.10.12"
  },
  "papermill": {
   "default_parameters": {},
   "duration": 5764.9777,
   "end_time": "2023-08-11T13:16:08.006648",
   "environment_variables": {},
   "exception": null,
   "input_path": "__notebook__.ipynb",
   "output_path": "__notebook__.ipynb",
   "parameters": {},
   "start_time": "2023-08-11T11:40:03.028948",
   "version": "2.4.0"
  }
 },
 "nbformat": 4,
 "nbformat_minor": 5
}
